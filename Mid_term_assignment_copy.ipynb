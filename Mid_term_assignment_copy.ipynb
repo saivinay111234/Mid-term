{
 "cells": [
  {
   "attachments": {},
   "cell_type": "markdown",
   "metadata": {},
   "source": [
    "### Title: Midterm Programming question Part2\n",
    "### Author: Sai Vinay Thattukolla\n",
    "### Date: 10/4/2023"
   ]
  },
  {
   "attachments": {},
   "cell_type": "markdown",
   "metadata": {},
   "source": [
    "The project is a community chat system extension that will add new functionality to an existing chat system that currently suppports 75 million users. this new file feature allow the users to include an attached file with their messages. our proposed system should keep this file with fields user_id, date, file type, and the file itself. for the sake of our database, i took 3 more fields in my database fields. those are filename, file location and content in the file. In reality content in each file is masked to the database adminsitrators for securoty reasons.\n",
    "\n",
    "\n",
    "In the below code i am creating different types of file ssuch as png, pdf, jpg and doc with unique names for each files. I also inserted the content in each file with the help of write function using python."
   ]
  },
  {
   "cell_type": "code",
   "execution_count": 83,
   "metadata": {},
   "outputs": [],
   "source": [
    "with open('file11.jpg','w') as fout:\n",
    "    fout.write(\"this is user 11\")\n",
    "\n",
    "with open('file12.doc','w') as fout1:\n",
    "    fout1.write(\"this is user 12\")\n",
    "\n",
    "with open('file13.pdf','w') as fout2:\n",
    "    fout2.write(\"this is user 13\")\n",
    "\n",
    "with open('file14.mp4','w') as fout3:\n",
    "    fout3.write(\"this is user14\")\n",
    "\n",
    "with open('file15.png','w') as fout4:\n",
    "    fout4.write(\"this is user15\")"
   ]
  },
  {
   "attachments": {},
   "cell_type": "markdown",
   "metadata": {},
   "source": [
    "After creating the files, our next step is to read the files. so i am utliizing the read function in python that reads the content in the each document."
   ]
  },
  {
   "cell_type": "code",
   "execution_count": 84,
   "metadata": {},
   "outputs": [
    {
     "name": "stdout",
     "output_type": "stream",
     "text": [
      "this is user 11\n",
      "this is user 12\n",
      "this is user 13\n",
      "this is user14\n",
      "this is user15\n"
     ]
    }
   ],
   "source": [
    "with open('file11.jpg', 'r') as fin1:\n",
    "    tmp1=fin1.read()\n",
    "    print(tmp1)\n",
    "\n",
    "with open('file12.doc', 'r') as fin2:\n",
    "    tmp2=fin2.read()\n",
    "    print(tmp2)\n",
    "\n",
    "with open('file13.pdf', 'r') as fin3:\n",
    "    tmp3=fin3.read()\n",
    "    print(tmp3)\n",
    "\n",
    "with open('file14.mp4', 'r') as fin4:\n",
    "    tmp4=fin4.read()\n",
    "    print(tmp4)\n",
    "\n",
    "with open('file15.png', 'r') as fin5:\n",
    "    tmp5=fin5.read()\n",
    "    print(tmp5)"
   ]
  },
  {
   "attachments": {},
   "cell_type": "markdown",
   "metadata": {},
   "source": [
    "Here i am importing the required libraries. using \n",
    "1. pandas as pd \n",
    "2. importing the cassandra cluster. \n",
    "\n",
    "In the terminal, i have started the cassandra cluster using the \"docker-compose up\". this will start the 3-node cassandra cluster. To start the cassandra cluster, we need docker.yaml file. it contains the instructiins to start the docker cluster with mentioned ports and addresses. (check the .yaml file for more information)."
   ]
  },
  {
   "cell_type": "code",
   "execution_count": 85,
   "metadata": {},
   "outputs": [],
   "source": [
    "import pandas as pd\n",
    "from cassandra.cluster import Cluster"
   ]
  },
  {
   "attachments": {},
   "cell_type": "markdown",
   "metadata": {},
   "source": [
    "### Create a session connection to Cassandra cluster"
   ]
  },
  {
   "cell_type": "code",
   "execution_count": 86,
   "metadata": {},
   "outputs": [],
   "source": [
    "clstr = Cluster()\n",
    "session = clstr.connect()"
   ]
  },
  {
   "attachments": {},
   "cell_type": "markdown",
   "metadata": {},
   "source": [
    "### Use session to 'talk' to cassandra"
   ]
  },
  {
   "attachments": {},
   "cell_type": "markdown",
   "metadata": {},
   "source": [
    "Before proceeding with the database insertion and mnaipulation, it is important for us to create key space. it is the outermost region in the cassandra cluster. "
   ]
  },
  {
   "cell_type": "code",
   "execution_count": 87,
   "metadata": {},
   "outputs": [
    {
     "data": {
      "text/plain": [
       "<cassandra.cluster.ResultSet at 0x7fc9383f75d0>"
      ]
     },
     "execution_count": 87,
     "metadata": {},
     "output_type": "execute_result"
    }
   ],
   "source": [
    "session.execute(\"DROP KEYSPACE IF EXISTS w04python\")"
   ]
  },
  {
   "attachments": {},
   "cell_type": "markdown",
   "metadata": {},
   "source": [
    "In the bwlow code we are checking the keyspaces currently present in the environment."
   ]
  },
  {
   "cell_type": "code",
   "execution_count": 88,
   "metadata": {},
   "outputs": [
    {
     "name": "stdout",
     "output_type": "stream",
     "text": [
      "system\n",
      "system_auth\n",
      "system_distributed\n",
      "system_schema\n",
      "system_traces\n",
      "system_views\n",
      "system_virtual_schema\n"
     ]
    }
   ],
   "source": [
    "rows = session.execute(\"desc keyspaces\")\n",
    "for row in rows:\n",
    "    print(f\"{row[0]}\")"
   ]
  },
  {
   "attachments": {},
   "cell_type": "markdown",
   "metadata": {},
   "source": [
    "In the below code, we are cretaing a key space with replication factor =3, which states data is replicated in total of 3 ndoes in 3 casandra cluster. which includes 1 master copy and 2 back up copies in differnt nodes."
   ]
  },
  {
   "cell_type": "code",
   "execution_count": 89,
   "metadata": {},
   "outputs": [
    {
     "data": {
      "text/plain": [
       "<cassandra.cluster.ResultSet at 0x7fc93846e410>"
      ]
     },
     "execution_count": 89,
     "metadata": {},
     "output_type": "execute_result"
    }
   ],
   "source": [
    "session.execute(\"\"\"\n",
    "    CREATE KEYSPACE IF NOT EXISTS w04python WITH REPLICATION = {\n",
    "        'class':'SimpleStrategy', \n",
    "        'replication_factor':3\n",
    "    }\n",
    "\"\"\")"
   ]
  },
  {
   "cell_type": "code",
   "execution_count": 90,
   "metadata": {},
   "outputs": [
    {
     "name": "stdout",
     "output_type": "stream",
     "text": [
      "system\n",
      "system_auth\n",
      "system_distributed\n",
      "system_schema\n",
      "system_traces\n",
      "system_views\n",
      "system_virtual_schema\n",
      "w04python\n"
     ]
    }
   ],
   "source": [
    "rows = session.execute(\"desc keyspaces\")\n",
    "for row in rows:\n",
    "    print(f\"{row[0]}\")"
   ]
  },
  {
   "attachments": {},
   "cell_type": "markdown",
   "metadata": {},
   "source": [
    "### Create a each user file sharing dataset"
   ]
  },
  {
   "attachments": {},
   "cell_type": "markdown",
   "metadata": {},
   "source": [
    "In the below code we are creating the table skeleton with the fields and data type for each field. I have taken one user_id as primary key. we can specify other fields as well. Now the partiton of data is going to be taken based on user_id. if we have given filetype as other primary key, it becomes clustering key, which is sued for sorting the data in each node."
   ]
  },
  {
   "cell_type": "code",
   "execution_count": 91,
   "metadata": {},
   "outputs": [
    {
     "data": {
      "text/plain": [
       "<cassandra.cluster.ResultSet at 0x7fc9385fcf10>"
      ]
     },
     "execution_count": 91,
     "metadata": {},
     "output_type": "execute_result"
    }
   ],
   "source": [
    "session.execute(\"\"\"\n",
    "CREATE TABLE IF NOT EXISTS w04python.files ( \n",
    "    user_id INT, \n",
    "    date TEXT, \n",
    "    file_type TEXT, \n",
    "    file_location TEXT,\n",
    "    file TEXT,\n",
    "    content TEXT, \n",
    "    PRIMARY KEY(user_id)\n",
    ");\n",
    "\"\"\")"
   ]
  },
  {
   "cell_type": "code",
   "execution_count": 92,
   "metadata": {},
   "outputs": [
    {
     "data": {
      "text/html": [
       "<div>\n",
       "<style scoped>\n",
       "    .dataframe tbody tr th:only-of-type {\n",
       "        vertical-align: middle;\n",
       "    }\n",
       "\n",
       "    .dataframe tbody tr th {\n",
       "        vertical-align: top;\n",
       "    }\n",
       "\n",
       "    .dataframe thead th {\n",
       "        text-align: right;\n",
       "    }\n",
       "</style>\n",
       "<table border=\"1\" class=\"dataframe\">\n",
       "  <thead>\n",
       "    <tr style=\"text-align: right;\">\n",
       "      <th></th>\n",
       "      <th>user_id</th>\n",
       "      <th>date</th>\n",
       "      <th>file_type</th>\n",
       "      <th>file_location</th>\n",
       "      <th>file</th>\n",
       "    </tr>\n",
       "  </thead>\n",
       "  <tbody>\n",
       "    <tr>\n",
       "      <th>0</th>\n",
       "      <td>1000</td>\n",
       "      <td>'01/01/2023'</td>\n",
       "      <td>'jpg'</td>\n",
       "      <td>'/home/student/Workbench/bd-f23/bd-f23/file11....</td>\n",
       "      <td>'file11'</td>\n",
       "    </tr>\n",
       "    <tr>\n",
       "      <th>1</th>\n",
       "      <td>1001</td>\n",
       "      <td>'01/02/2023'</td>\n",
       "      <td>'mp4'</td>\n",
       "      <td>'/home/student/Workbench/bd-f23/bd-f23/file12....</td>\n",
       "      <td>'file12'</td>\n",
       "    </tr>\n",
       "    <tr>\n",
       "      <th>2</th>\n",
       "      <td>1002</td>\n",
       "      <td>'01/03/2023'</td>\n",
       "      <td>'jpg'</td>\n",
       "      <td>'/home/student/Workbench/bd-f23/bd-f23/file13....</td>\n",
       "      <td>'file13'</td>\n",
       "    </tr>\n",
       "    <tr>\n",
       "      <th>3</th>\n",
       "      <td>1004</td>\n",
       "      <td>'01/04/2023'</td>\n",
       "      <td>'png'</td>\n",
       "      <td>'/home/student/Workbench/bd-f23/bd-f23/file14....</td>\n",
       "      <td>'file14'</td>\n",
       "    </tr>\n",
       "    <tr>\n",
       "      <th>4</th>\n",
       "      <td>1005</td>\n",
       "      <td>'02/05/2023'</td>\n",
       "      <td>'pdf'</td>\n",
       "      <td>'/home/student/Workbench/bd-f23/bd-f23/file15....</td>\n",
       "      <td>'file15'</td>\n",
       "    </tr>\n",
       "  </tbody>\n",
       "</table>\n",
       "</div>"
      ],
      "text/plain": [
       "   user_id          date file_type  \\\n",
       "0     1000  '01/01/2023'     'jpg'   \n",
       "1     1001  '01/02/2023'     'mp4'   \n",
       "2     1002  '01/03/2023'     'jpg'   \n",
       "3     1004  '01/04/2023'     'png'   \n",
       "4     1005  '02/05/2023'     'pdf'   \n",
       "\n",
       "                                       file_location      file  \n",
       "0  '/home/student/Workbench/bd-f23/bd-f23/file11....  'file11'  \n",
       "1  '/home/student/Workbench/bd-f23/bd-f23/file12....  'file12'  \n",
       "2  '/home/student/Workbench/bd-f23/bd-f23/file13....  'file13'  \n",
       "3  '/home/student/Workbench/bd-f23/bd-f23/file14....  'file14'  \n",
       "4  '/home/student/Workbench/bd-f23/bd-f23/file15....  'file15'  "
      ]
     },
     "execution_count": 92,
     "metadata": {},
     "output_type": "execute_result"
    }
   ],
   "source": [
    "df = pd.read_csv('M01.csv')\n",
    "df"
   ]
  },
  {
   "cell_type": "code",
   "execution_count": 93,
   "metadata": {},
   "outputs": [],
   "source": [
    "df['content']=[tmp1,tmp2,tmp3,tmp4,tmp5]"
   ]
  },
  {
   "cell_type": "code",
   "execution_count": 94,
   "metadata": {},
   "outputs": [
    {
     "data": {
      "text/html": [
       "<div>\n",
       "<style scoped>\n",
       "    .dataframe tbody tr th:only-of-type {\n",
       "        vertical-align: middle;\n",
       "    }\n",
       "\n",
       "    .dataframe tbody tr th {\n",
       "        vertical-align: top;\n",
       "    }\n",
       "\n",
       "    .dataframe thead th {\n",
       "        text-align: right;\n",
       "    }\n",
       "</style>\n",
       "<table border=\"1\" class=\"dataframe\">\n",
       "  <thead>\n",
       "    <tr style=\"text-align: right;\">\n",
       "      <th></th>\n",
       "      <th>user_id</th>\n",
       "      <th>date</th>\n",
       "      <th>file_type</th>\n",
       "      <th>file_location</th>\n",
       "      <th>file</th>\n",
       "      <th>content</th>\n",
       "    </tr>\n",
       "  </thead>\n",
       "  <tbody>\n",
       "    <tr>\n",
       "      <th>0</th>\n",
       "      <td>1000</td>\n",
       "      <td>'01/01/2023'</td>\n",
       "      <td>'jpg'</td>\n",
       "      <td>'/home/student/Workbench/bd-f23/bd-f23/file11....</td>\n",
       "      <td>'file11'</td>\n",
       "      <td>this is user 11</td>\n",
       "    </tr>\n",
       "    <tr>\n",
       "      <th>1</th>\n",
       "      <td>1001</td>\n",
       "      <td>'01/02/2023'</td>\n",
       "      <td>'mp4'</td>\n",
       "      <td>'/home/student/Workbench/bd-f23/bd-f23/file12....</td>\n",
       "      <td>'file12'</td>\n",
       "      <td>this is user 12</td>\n",
       "    </tr>\n",
       "    <tr>\n",
       "      <th>2</th>\n",
       "      <td>1002</td>\n",
       "      <td>'01/03/2023'</td>\n",
       "      <td>'jpg'</td>\n",
       "      <td>'/home/student/Workbench/bd-f23/bd-f23/file13....</td>\n",
       "      <td>'file13'</td>\n",
       "      <td>this is user 13</td>\n",
       "    </tr>\n",
       "    <tr>\n",
       "      <th>3</th>\n",
       "      <td>1004</td>\n",
       "      <td>'01/04/2023'</td>\n",
       "      <td>'png'</td>\n",
       "      <td>'/home/student/Workbench/bd-f23/bd-f23/file14....</td>\n",
       "      <td>'file14'</td>\n",
       "      <td>this is user14</td>\n",
       "    </tr>\n",
       "    <tr>\n",
       "      <th>4</th>\n",
       "      <td>1005</td>\n",
       "      <td>'02/05/2023'</td>\n",
       "      <td>'pdf'</td>\n",
       "      <td>'/home/student/Workbench/bd-f23/bd-f23/file15....</td>\n",
       "      <td>'file15'</td>\n",
       "      <td>this is user15</td>\n",
       "    </tr>\n",
       "  </tbody>\n",
       "</table>\n",
       "</div>"
      ],
      "text/plain": [
       "   user_id          date file_type  \\\n",
       "0     1000  '01/01/2023'     'jpg'   \n",
       "1     1001  '01/02/2023'     'mp4'   \n",
       "2     1002  '01/03/2023'     'jpg'   \n",
       "3     1004  '01/04/2023'     'png'   \n",
       "4     1005  '02/05/2023'     'pdf'   \n",
       "\n",
       "                                       file_location      file  \\\n",
       "0  '/home/student/Workbench/bd-f23/bd-f23/file11....  'file11'   \n",
       "1  '/home/student/Workbench/bd-f23/bd-f23/file12....  'file12'   \n",
       "2  '/home/student/Workbench/bd-f23/bd-f23/file13....  'file13'   \n",
       "3  '/home/student/Workbench/bd-f23/bd-f23/file14....  'file14'   \n",
       "4  '/home/student/Workbench/bd-f23/bd-f23/file15....  'file15'   \n",
       "\n",
       "           content  \n",
       "0  this is user 11  \n",
       "1  this is user 12  \n",
       "2  this is user 13  \n",
       "3   this is user14  \n",
       "4   this is user15  "
      ]
     },
     "execution_count": 94,
     "metadata": {},
     "output_type": "execute_result"
    }
   ],
   "source": [
    "df"
   ]
  },
  {
   "cell_type": "code",
   "execution_count": 95,
   "metadata": {},
   "outputs": [
    {
     "data": {
      "text/plain": [
       "user_id           int64\n",
       "date             object\n",
       "file_type        object\n",
       "file_location    object\n",
       "file             object\n",
       "content          object\n",
       "dtype: object"
      ]
     },
     "execution_count": 95,
     "metadata": {},
     "output_type": "execute_result"
    }
   ],
   "source": [
    "df.dtypes"
   ]
  },
  {
   "cell_type": "code",
   "execution_count": 96,
   "metadata": {},
   "outputs": [
    {
     "data": {
      "text/plain": [
       "Index(['user_id', 'date', 'file_type', 'file_location', 'file', 'content'], dtype='object')"
      ]
     },
     "execution_count": 96,
     "metadata": {},
     "output_type": "execute_result"
    }
   ],
   "source": [
    "df.columns"
   ]
  },
  {
   "attachments": {},
   "cell_type": "markdown",
   "metadata": {},
   "source": [
    "#### Checking the records in the database with the fields mentioned"
   ]
  },
  {
   "cell_type": "code",
   "execution_count": 97,
   "metadata": {},
   "outputs": [
    {
     "name": "stdout",
     "output_type": "stream",
     "text": [
      "user_id = 1000, date ='01/01/2023', file_type = 'jpg', file_location = '/home/student/Workbench/bd-f23/bd-f23/file11.jpg', file = 'file11', content = this is user 11\n",
      "user_id = 1001, date ='01/02/2023', file_type = 'mp4', file_location = '/home/student/Workbench/bd-f23/bd-f23/file12.doc', file = 'file12', content = this is user 12\n",
      "user_id = 1002, date ='01/03/2023', file_type = 'jpg', file_location = '/home/student/Workbench/bd-f23/bd-f23/file13.pdf', file = 'file13', content = this is user 13\n",
      "user_id = 1004, date ='01/04/2023', file_type = 'png', file_location = '/home/student/Workbench/bd-f23/bd-f23/file14.mp4', file = 'file14', content = this is user14\n",
      "user_id = 1005, date ='02/05/2023', file_type = 'pdf', file_location = '/home/student/Workbench/bd-f23/bd-f23/file15.png', file = 'file15', content = this is user15\n"
     ]
    }
   ],
   "source": [
    "for index, row in df.iterrows():\n",
    "    print(f\"user_id = {row.user_id}, date ={row.date}, file_type = {row.file_type}, file_location = {row.file_location}, file = {row.file}, content = {row.content}\")"
   ]
  },
  {
   "attachments": {},
   "cell_type": "markdown",
   "metadata": {},
   "source": [
    "In the below code we are inserting the records into the files database using the session.execute function. this will execute the CQL query inside it. it will iterate theough the each row and insert each record one by one into the database."
   ]
  },
  {
   "cell_type": "code",
   "execution_count": 98,
   "metadata": {},
   "outputs": [
    {
     "name": "stdout",
     "output_type": "stream",
     "text": [
      "\n",
      "        INSERT INTO w04python.files (user_id, date, file_type, file_location, file, content)     \n",
      "        VALUES (1000, '01/01/2023', 'jpg', '/home/student/Workbench/bd-f23/bd-f23/file11.jpg', 'file11', this is user 11);\n",
      "        \n",
      "\n",
      "        INSERT INTO w04python.files (user_id, date, file_type, file_location, file, content)     \n",
      "        VALUES (1001, '01/02/2023', 'mp4', '/home/student/Workbench/bd-f23/bd-f23/file12.doc', 'file12', this is user 12);\n",
      "        \n",
      "\n",
      "        INSERT INTO w04python.files (user_id, date, file_type, file_location, file, content)     \n",
      "        VALUES (1002, '01/03/2023', 'jpg', '/home/student/Workbench/bd-f23/bd-f23/file13.pdf', 'file13', this is user 13);\n",
      "        \n",
      "\n",
      "        INSERT INTO w04python.files (user_id, date, file_type, file_location, file, content)     \n",
      "        VALUES (1004, '01/04/2023', 'png', '/home/student/Workbench/bd-f23/bd-f23/file14.mp4', 'file14', this is user14);\n",
      "        \n",
      "\n",
      "        INSERT INTO w04python.files (user_id, date, file_type, file_location, file, content)     \n",
      "        VALUES (1005, '02/05/2023', 'pdf', '/home/student/Workbench/bd-f23/bd-f23/file15.png', 'file15', this is user15);\n",
      "        \n"
     ]
    }
   ],
   "source": [
    "for index, row in df.iterrows():\n",
    "    print(f\"\"\"\n",
    "        INSERT INTO w04python.files (user_id, date, file_type, file_location, file, content)     \n",
    "        VALUES ({row[0]}, {row[1]}, {row[2]}, {row[3]}, {row[4]}, {row[5]});\n",
    "        \"\"\"\n",
    "    )\n",
    "    session.execute(f\"\"\"\n",
    "        INSERT INTO w04python.files (user_id, date, file_type, file_location, file, content)     \n",
    "        VALUES ({row[0]}, {row[1]}, {row[2]}, {row[3]}, {row[4]}, '{row[5]}');\n",
    "        \"\"\"\n",
    "    )"
   ]
  },
  {
   "attachments": {},
   "cell_type": "markdown",
   "metadata": {},
   "source": [
    "Now we are searching for one file and returing the file to thee user. whenever the user wants a message he can use indexing method to see the file content and filetype.;"
   ]
  },
  {
   "cell_type": "code",
   "execution_count": 99,
   "metadata": {},
   "outputs": [
    {
     "name": "stdout",
     "output_type": "stream",
     "text": [
      "1004, 01/04/2023, attachment=file14, this is user14\n"
     ]
    }
   ],
   "source": [
    "# To search for and return attachment\n",
    "\n",
    "rows = session.execute(\"select (user_id, date, file, content) from w04python.files where user_id = 1004\")\n",
    "for row in rows:\n",
    "    print(f\"{row[0][0]}, {row[0][1]}, attachment={row[0][2]}, {row[0][3]}\")"
   ]
  },
  {
   "attachments": {},
   "cell_type": "markdown",
   "metadata": {},
   "source": [
    "Now we are deleting the record to check our cassandra system is working correct or not."
   ]
  },
  {
   "cell_type": "code",
   "execution_count": 100,
   "metadata": {},
   "outputs": [
    {
     "data": {
      "text/plain": [
       "<cassandra.cluster.ResultSet at 0x7fc95d4d34d0>"
      ]
     },
     "execution_count": 100,
     "metadata": {},
     "output_type": "execute_result"
    }
   ],
   "source": [
    "# delete the record\n",
    "session.execute(f\"\"\"\n",
    "    DELETE FROM w04python.files\n",
    "    WHERE\n",
    "        user_id = 1004;\n",
    "    \"\"\"\n",
    ")"
   ]
  },
  {
   "attachments": {},
   "cell_type": "markdown",
   "metadata": {},
   "source": [
    "Once our work is done, it is important for the user to stop the cassandra cluster and remove the cluster from the environment using the docker stop and docker rm command."
   ]
  }
 ],
 "metadata": {
  "kernelspec": {
   "display_name": "bd",
   "language": "python",
   "name": "python3"
  },
  "language_info": {
   "codemirror_mode": {
    "name": "ipython",
    "version": 3
   },
   "file_extension": ".py",
   "mimetype": "text/x-python",
   "name": "python",
   "nbconvert_exporter": "python",
   "pygments_lexer": "ipython3",
   "version": "3.11.4"
  },
  "orig_nbformat": 4
 },
 "nbformat": 4,
 "nbformat_minor": 2
}
